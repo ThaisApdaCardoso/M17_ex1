{
  "cells": [
    {
      "cell_type": "markdown",
      "metadata": {
        "tags": [],
        "id": "WbhyLeCK63Li"
      },
      "source": [
        "# Árvores II - Tarefa I"
      ]
    },
    {
      "cell_type": "markdown",
      "metadata": {
        "id": "yOr_Ns-q63Lp"
      },
      "source": [
        "Neste exercício vamos trabalhar com a base de dados de identificação de atividade humana com smartphones. Smartphones possuem acelerômetro e giroscópio, que registram dados de aceleração e giro nos eixos X, Y e Z, com frequencia de 50 Hz (ou seja, 50 registros por segundo). Os dados foram agrupados a medidas de 0.3 Hz, calculando-se variáveis derivadas como aceleração mínima, máxima, média etc por eixo no período agrupado de tempo, resultando em 561 variáveis que podem ser lidas nas bases disponíveis.\n",
        "\n",
        "A base é oriunda de um experimento, em que os indivíduos realizavam uma de seis atividades corriqueiras:\n",
        "- andando\n",
        "- subindo escada\n",
        "- descendo escada\n",
        "- parado\n",
        "- sentado\n",
        "- deitado\n",
        "\n",
        "O objetivo é classificar a atividade humana com base nos dados do acelerômetro e giroscópio do celular."
      ]
    },
    {
      "cell_type": "markdown",
      "metadata": {
        "id": "61h88N5F63Lq"
      },
      "source": [
        "### 1. Carregar a base\n",
        "\n",
        "Sua primeira atividade é carregar a base.\n",
        "\n",
        "Ela está disponível neste link:\n",
        "https://archive.ics.uci.edu/ml/datasets/human+activity+recognition+using+smartphones\n",
        "\n",
        "dados https://archive.ics.uci.edu/ml/machine-learning-databases/00240/  \n",
        "dataset.names https://archive.ics.uci.edu/ml/machine-learning-databases/00240/UCI%20HAR%20Dataset.names  \n",
        "UCI HAR Dataset.zip https://archive.ics.uci.edu/ml/machine-learning-databases/00240/UCI%20HAR%20Dataset.zip\n",
        "\n",
        "Você vai encontrar os seguintes arquivos:\n",
        "\n",
        "- **features.txt:** contém a lista com os nomes das variáveis\n",
        "- **features_info.txt:** contém a descrição das variáveis\n",
        "- **README.txt:** contém uma descrição do estudo e das bases\n",
        "- **activity_labels:** contém o código da atividade (inteiro entre 1 e 6) e a descrição\n",
        "- **subject_train.txt:** uma lista indicando que registro pertence a que indivíduo na base de treino\n",
        "- **X_train.txt:** as *features* (ou variáveis explicativas) da base de testes. Cada linha representa um registro das informações de um indivíduo em um intervalo de tempo de aproximadamente 1/0.3 segundo. As medidas estão em ordem temporal dentro do estudo, e o indivíduo que originou a medida está identificado na base subject_train.txt.\n",
        "- **y_train.txt:** Possui o mesmo número de linhas que X_test. Contém um número de 1 a 6 indicando a atividade que estava sendo realizada por aquele registro na base de treino.\n",
        "- **subject_test.txt:** uma lista indicando que registro pertence a que indivíduo na base de teste\n",
        "- **X_test.txt:** as *features* (ou variáveis explicativas) da base de testes. Cada linha representa um registro das informações de um indivíduo em um intervalo de tempo de aproximadamente 1/0.3 segundo. As medidas estão em ordem temporal dentro do estudo, e o indivíduo que originou a medida está identificado na base subject_test.txt.\n",
        "- **y_test.txt:** Possui o mesmo número de linhas que X_train. Contém um número de 1 a 6 indicando a atividade que estava sendo realizada por aquele registro na base de teste.\n",
        "\n",
        "Carregue as bases:\n",
        "\n",
        "1. Faça o download dos arquivos.\n",
        "2. Carregue a base ```features.txt``` em uma *Series* (por exemplo usando o comando ```pd.read_csv()```.\n",
        "3. Carregue a base subject_train.txt em uma *Series*\n",
        "4. Carregue a base X_train.txt\n",
        "    1. Faça com que as colunas deste *dataframe* tenham os nomes indicados em ```features.txt```\n",
        "    2. Sem alterar a ordem dos *dataframes*, coloque o indicador do indivíduo lido em ```subject_train.txt``` como uma variável a mais neste *dataframe***\n",
        "    3. Faça com que este *dataframe* tenha um índice duplo, composto pela ordem dos dados e pelo identificador do indivíduo\n",
        "5. Com a mesma lógica, carregue a base X_test\n",
        "    1. Certifique-se de que tenha os nomes lidos em ```features.txt```\n",
        "    2. Coloque o identificador do sujeito lido em ```subject_test.txt```\n",
        "    3. Defina um índice duplo composto pela ordem do registro e o identificador do registro\n",
        "6. Salve as bases em arquivos CSV para facilitar a leitura deles na terefa 2 deste módulo\n",
        "7. Considere que esta base é maior que a da aula, tanto em linhas quanto em colunas. Selecione apenas as três primeiras colunas da base ('tBodyAcc-mean()-X', 'tBodyAcc-mean()-Y' e 'tBodyAcc-mean()-Z'), para efeitos desse exercício.\n",
        "\n",
        "**OBS:** As bases já estão divididas em treino e teste, de modo que não vamos precisar da função ```train_test_split```."
      ]
    },
    {
      "cell_type": "code",
      "execution_count": 29,
      "metadata": {
        "id": "M1cObAhq63Ls"
      },
      "outputs": [],
      "source": [
        "import pandas as pd\n",
        "from sklearn.tree import DecisionTreeClassifier\n",
        "import numpy as np\n",
        "import matplotlib.pyplot as plt\n",
        "from sklearn.metrics import accuracy_score\n"
      ]
    },
    {
      "cell_type": "code",
      "source": [
        "features_path = \"features.txt\"\n",
        "\n",
        "# Carregando os nomes das variáveis\n",
        "features = pd.read_csv(features_path, sep=\"\\s+\", header=None, usecols=[1], names=[\"feature_names\"])\n",
        "features = features[\"feature_names\"]\n",
        "\n",
        "# Tornar os nomes únicos (adicionando um sufixo para duplicados)\n",
        "features = features + \"_\" + features.groupby(features).cumcount().astype(str)\n",
        "print(features.head())  # Exibe os 5 primeiros nomes"
      ],
      "metadata": {
        "colab": {
          "base_uri": "https://localhost:8080/"
        },
        "id": "8H98ijxAPzqc",
        "outputId": "25755bf6-522f-49ed-9ae4-484a1ffa94d2"
      },
      "execution_count": 6,
      "outputs": [
        {
          "output_type": "stream",
          "name": "stdout",
          "text": [
            "0    tBodyAcc-mean()-X_0\n",
            "1    tBodyAcc-mean()-Y_0\n",
            "2    tBodyAcc-mean()-Z_0\n",
            "3     tBodyAcc-std()-X_0\n",
            "4     tBodyAcc-std()-Y_0\n",
            "dtype: object\n"
          ]
        }
      ]
    },
    {
      "cell_type": "code",
      "execution_count": 7,
      "metadata": {
        "colab": {
          "base_uri": "https://localhost:8080/"
        },
        "id": "Cni1xCZw63Lv",
        "outputId": "2610b3eb-3932-4a26-ccd6-54475d6ebedb"
      },
      "outputs": [
        {
          "output_type": "stream",
          "name": "stdout",
          "text": [
            "   subject\n",
            "0        1\n",
            "1        1\n",
            "2        1\n",
            "3        1\n",
            "4        1\n"
          ]
        }
      ],
      "source": [
        "# Caminho para o arquivo\n",
        "subject_train_path = \"subject_train.txt\"\n",
        "\n",
        "# Carregando os identificadores dos sujeitos\n",
        "subject_train = pd.read_csv(subject_train_path, header=None, names=[\"subject\"])\n",
        "print(subject_train.head())  # Exibe os primeiros registros"
      ]
    },
    {
      "cell_type": "code",
      "source": [
        "# Caminho para o arquivo\n",
        "x_train_path = \"X_train.txt\"\n",
        "\n",
        "# Carregando os dados de treino com nomes das colunas\n",
        "X_train = pd.read_csv(x_train_path, sep=\"\\s+\", header=None, names=features)\n",
        "\n",
        "# Adicionando o identificador do sujeito\n",
        "X_train[\"subject\"] = subject_train\n",
        "\n",
        "# Criando o índice duplo\n",
        "X_train.set_index([X_train.index, \"subject\"], inplace=True)\n",
        "print(X_train.head())"
      ],
      "metadata": {
        "colab": {
          "base_uri": "https://localhost:8080/"
        },
        "id": "twK8JuzwPAOI",
        "outputId": "2638b6e4-116f-4159-dc16-f5707ea1d7f3"
      },
      "execution_count": 8,
      "outputs": [
        {
          "output_type": "stream",
          "name": "stdout",
          "text": [
            "           tBodyAcc-mean()-X_0  tBodyAcc-mean()-Y_0  tBodyAcc-mean()-Z_0  \\\n",
            "  subject                                                                  \n",
            "0 1                   0.288585            -0.020294            -0.132905   \n",
            "1 1                   0.278419            -0.016411            -0.123520   \n",
            "2 1                   0.279653            -0.019467            -0.113462   \n",
            "3 1                   0.279174            -0.026201            -0.123283   \n",
            "4 1                   0.276629            -0.016570            -0.115362   \n",
            "\n",
            "           tBodyAcc-std()-X_0  tBodyAcc-std()-Y_0  tBodyAcc-std()-Z_0  \\\n",
            "  subject                                                               \n",
            "0 1                 -0.995279           -0.983111           -0.913526   \n",
            "1 1                 -0.998245           -0.975300           -0.960322   \n",
            "2 1                 -0.995380           -0.967187           -0.978944   \n",
            "3 1                 -0.996091           -0.983403           -0.990675   \n",
            "4 1                 -0.998139           -0.980817           -0.990482   \n",
            "\n",
            "           tBodyAcc-mad()-X_0  tBodyAcc-mad()-Y_0  tBodyAcc-mad()-Z_0  \\\n",
            "  subject                                                               \n",
            "0 1                 -0.995112           -0.983185           -0.923527   \n",
            "1 1                 -0.998807           -0.974914           -0.957686   \n",
            "2 1                 -0.996520           -0.963668           -0.977469   \n",
            "3 1                 -0.997099           -0.982750           -0.989302   \n",
            "4 1                 -0.998321           -0.979672           -0.990441   \n",
            "\n",
            "           tBodyAcc-max()-X_0  ...  fBodyBodyGyroJerkMag-meanFreq()_0  \\\n",
            "  subject                      ...                                      \n",
            "0 1                 -0.934724  ...                          -0.074323   \n",
            "1 1                 -0.943068  ...                           0.158075   \n",
            "2 1                 -0.938692  ...                           0.414503   \n",
            "3 1                 -0.938692  ...                           0.404573   \n",
            "4 1                 -0.942469  ...                           0.087753   \n",
            "\n",
            "           fBodyBodyGyroJerkMag-skewness()_0  \\\n",
            "  subject                                      \n",
            "0 1                                -0.298676   \n",
            "1 1                                -0.595051   \n",
            "2 1                                -0.390748   \n",
            "3 1                                -0.117290   \n",
            "4 1                                -0.351471   \n",
            "\n",
            "           fBodyBodyGyroJerkMag-kurtosis()_0  angle(tBodyAccMean,gravity)_0  \\\n",
            "  subject                                                                     \n",
            "0 1                                -0.710304                      -0.112754   \n",
            "1 1                                -0.861499                       0.053477   \n",
            "2 1                                -0.760104                      -0.118559   \n",
            "3 1                                -0.482845                      -0.036788   \n",
            "4 1                                -0.699205                       0.123320   \n",
            "\n",
            "           angle(tBodyAccJerkMean),gravityMean)_0  \\\n",
            "  subject                                           \n",
            "0 1                                      0.030400   \n",
            "1 1                                     -0.007435   \n",
            "2 1                                      0.177899   \n",
            "3 1                                     -0.012892   \n",
            "4 1                                      0.122542   \n",
            "\n",
            "           angle(tBodyGyroMean,gravityMean)_0  \\\n",
            "  subject                                       \n",
            "0 1                                 -0.464761   \n",
            "1 1                                 -0.732626   \n",
            "2 1                                  0.100699   \n",
            "3 1                                  0.640011   \n",
            "4 1                                  0.693578   \n",
            "\n",
            "           angle(tBodyGyroJerkMean,gravityMean)_0  angle(X,gravityMean)_0  \\\n",
            "  subject                                                                   \n",
            "0 1                                     -0.018446               -0.841247   \n",
            "1 1                                      0.703511               -0.844788   \n",
            "2 1                                      0.808529               -0.848933   \n",
            "3 1                                     -0.485366               -0.848649   \n",
            "4 1                                     -0.615971               -0.847865   \n",
            "\n",
            "           angle(Y,gravityMean)_0  angle(Z,gravityMean)_0  \n",
            "  subject                                                  \n",
            "0 1                      0.179941               -0.058627  \n",
            "1 1                      0.180289               -0.054317  \n",
            "2 1                      0.180637               -0.049118  \n",
            "3 1                      0.181935               -0.047663  \n",
            "4 1                      0.185151               -0.043892  \n",
            "\n",
            "[5 rows x 561 columns]\n"
          ]
        }
      ]
    },
    {
      "cell_type": "code",
      "source": [
        "# Caminhos para os arquivos\n",
        "x_test_path = \"X_test.txt\"\n",
        "subject_test_path = \"subject_test.txt\"\n",
        "\n",
        "# Carregando os identificadores dos sujeitos de teste\n",
        "subject_test = pd.read_csv(subject_test_path, header=None, names=[\"subject\"])\n",
        "\n",
        "# Carregando os dados de teste com nomes das colunas\n",
        "X_test = pd.read_csv(x_test_path, sep=\"\\s+\", header=None, names=features)\n",
        "\n",
        "# Adicionando o identificador do sujeito\n",
        "X_test[\"subject\"] = subject_test\n",
        "\n",
        "# Criando o índice duplo\n",
        "X_test.set_index([X_test.index, \"subject\"], inplace=True)\n",
        "print(X_test.head())"
      ],
      "metadata": {
        "colab": {
          "base_uri": "https://localhost:8080/"
        },
        "id": "tLPv6ppTO__U",
        "outputId": "45977b2e-bcac-4036-d521-14c56f75aeae"
      },
      "execution_count": 9,
      "outputs": [
        {
          "output_type": "stream",
          "name": "stdout",
          "text": [
            "           tBodyAcc-mean()-X_0  tBodyAcc-mean()-Y_0  tBodyAcc-mean()-Z_0  \\\n",
            "  subject                                                                  \n",
            "0 2                   0.257178            -0.023285            -0.014654   \n",
            "1 2                   0.286027            -0.013163            -0.119083   \n",
            "2 2                   0.275485            -0.026050            -0.118152   \n",
            "3 2                   0.270298            -0.032614            -0.117520   \n",
            "4 2                   0.274833            -0.027848            -0.129527   \n",
            "\n",
            "           tBodyAcc-std()-X_0  tBodyAcc-std()-Y_0  tBodyAcc-std()-Z_0  \\\n",
            "  subject                                                               \n",
            "0 2                 -0.938404           -0.920091           -0.667683   \n",
            "1 2                 -0.975415           -0.967458           -0.944958   \n",
            "2 2                 -0.993819           -0.969926           -0.962748   \n",
            "3 2                 -0.994743           -0.973268           -0.967091   \n",
            "4 2                 -0.993852           -0.967445           -0.978295   \n",
            "\n",
            "           tBodyAcc-mad()-X_0  tBodyAcc-mad()-Y_0  tBodyAcc-mad()-Z_0  \\\n",
            "  subject                                                               \n",
            "0 2                 -0.952501           -0.925249           -0.674302   \n",
            "1 2                 -0.986799           -0.968401           -0.945823   \n",
            "2 2                 -0.994403           -0.970735           -0.963483   \n",
            "3 2                 -0.995274           -0.974471           -0.968897   \n",
            "4 2                 -0.994111           -0.965953           -0.977346   \n",
            "\n",
            "           tBodyAcc-max()-X_0  ...  fBodyBodyGyroJerkMag-meanFreq()_0  \\\n",
            "  subject                      ...                                      \n",
            "0 2                 -0.894088  ...                           0.071645   \n",
            "1 2                 -0.894088  ...                          -0.401189   \n",
            "2 2                 -0.939260  ...                           0.062891   \n",
            "3 2                 -0.938610  ...                           0.116695   \n",
            "4 2                 -0.938610  ...                          -0.121711   \n",
            "\n",
            "           fBodyBodyGyroJerkMag-skewness()_0  \\\n",
            "  subject                                      \n",
            "0 2                                -0.330370   \n",
            "1 2                                -0.121845   \n",
            "2 2                                -0.190422   \n",
            "3 2                                -0.344418   \n",
            "4 2                                -0.534685   \n",
            "\n",
            "           fBodyBodyGyroJerkMag-kurtosis()_0  angle(tBodyAccMean,gravity)_0  \\\n",
            "  subject                                                                     \n",
            "0 2                                -0.705974                       0.006462   \n",
            "1 2                                -0.594944                      -0.083495   \n",
            "2 2                                -0.640736                      -0.034956   \n",
            "3 2                                -0.736124                      -0.017067   \n",
            "4 2                                -0.846595                      -0.002223   \n",
            "\n",
            "           angle(tBodyAccJerkMean),gravityMean)_0  \\\n",
            "  subject                                           \n",
            "0 2                                      0.162920   \n",
            "1 2                                      0.017500   \n",
            "2 2                                      0.202302   \n",
            "3 2                                      0.154438   \n",
            "4 2                                     -0.040046   \n",
            "\n",
            "           angle(tBodyGyroMean,gravityMean)_0  \\\n",
            "  subject                                       \n",
            "0 2                                 -0.825886   \n",
            "1 2                                 -0.434375   \n",
            "2 2                                  0.064103   \n",
            "3 2                                  0.340134   \n",
            "4 2                                  0.736715   \n",
            "\n",
            "           angle(tBodyGyroJerkMean,gravityMean)_0  angle(X,gravityMean)_0  \\\n",
            "  subject                                                                   \n",
            "0 2                                      0.271151               -0.720009   \n",
            "1 2                                      0.920593               -0.698091   \n",
            "2 2                                      0.145068               -0.702771   \n",
            "3 2                                      0.296407               -0.698954   \n",
            "4 2                                     -0.118545               -0.692245   \n",
            "\n",
            "           angle(Y,gravityMean)_0  angle(Z,gravityMean)_0  \n",
            "  subject                                                  \n",
            "0 2                      0.276801               -0.057978  \n",
            "1 2                      0.281343               -0.083898  \n",
            "2 2                      0.280083               -0.079346  \n",
            "3 2                      0.284114               -0.077108  \n",
            "4 2                      0.290722               -0.073857  \n",
            "\n",
            "[5 rows x 561 columns]\n"
          ]
        }
      ]
    },
    {
      "cell_type": "code",
      "source": [
        "# Salvando as bases em arquivos CSV\n",
        "X_train.to_csv(\"X_train_prepared.csv\", index=True)\n",
        "X_test.to_csv(\"X_test_prepared.csv\", index=True)"
      ],
      "metadata": {
        "id": "oiIBn_lRO_xP"
      },
      "execution_count": 14,
      "outputs": []
    },
    {
      "cell_type": "code",
      "source": [
        "# Verificar os nomes reais das colunas no DataFrame\n",
        "matching_columns = [col for col in X_train.columns if 'tBodyAcc-mean()-X' in col or\n",
        "                    'tBodyAcc-mean()-Y' in col or\n",
        "                    'tBodyAcc-mean()-Z' in col]\n",
        "print(\"Colunas correspondentes encontradas:\", matching_columns)\n",
        "\n",
        "# Selecionar as três colunas encontradas\n",
        "X_train_selected = X_train[matching_columns]\n",
        "X_test_selected = X_test[matching_columns]\n",
        "\n",
        "# Exibir os dados selecionados\n",
        "print(\"Treino selecionado:\\n\", X_train_selected.head())\n",
        "print(\"Teste selecionado:\\n\", X_test_selected.head())\n",
        "\n",
        "# Salvar os dados selecionados em arquivos CSV\n",
        "X_train_selected.to_csv(\"X_train_selected.csv\", index=False)\n",
        "X_test_selected.to_csv(\"X_test_selected.csv\", index=False)"
      ],
      "metadata": {
        "colab": {
          "base_uri": "https://localhost:8080/"
        },
        "id": "hNspvOgGO_TQ",
        "outputId": "6c33a050-c779-41a4-cb47-f0986bea20cc"
      },
      "execution_count": 15,
      "outputs": [
        {
          "output_type": "stream",
          "name": "stdout",
          "text": [
            "Colunas correspondentes encontradas: ['tBodyAcc-mean()-X_0', 'tBodyAcc-mean()-Y_0', 'tBodyAcc-mean()-Z_0']\n",
            "Treino selecionado:\n",
            "            tBodyAcc-mean()-X_0  tBodyAcc-mean()-Y_0  tBodyAcc-mean()-Z_0\n",
            "  subject                                                               \n",
            "0 1                   0.288585            -0.020294            -0.132905\n",
            "1 1                   0.278419            -0.016411            -0.123520\n",
            "2 1                   0.279653            -0.019467            -0.113462\n",
            "3 1                   0.279174            -0.026201            -0.123283\n",
            "4 1                   0.276629            -0.016570            -0.115362\n",
            "Teste selecionado:\n",
            "            tBodyAcc-mean()-X_0  tBodyAcc-mean()-Y_0  tBodyAcc-mean()-Z_0\n",
            "  subject                                                               \n",
            "0 2                   0.257178            -0.023285            -0.014654\n",
            "1 2                   0.286027            -0.013163            -0.119083\n",
            "2 2                   0.275485            -0.026050            -0.118152\n",
            "3 2                   0.270298            -0.032614            -0.117520\n",
            "4 2                   0.274833            -0.027848            -0.129527\n"
          ]
        }
      ]
    },
    {
      "cell_type": "markdown",
      "metadata": {
        "id": "DHBQPkHF63Lw"
      },
      "source": [
        "### 2. Ajustar uma árvore de decisão\n",
        "\n",
        "- 2.1 ajuste uma árvore de decisão com número mínimo de observações por folha = 20. Certifique-se de que você esteja utilizando apenas as 3 variáveis indicadas no exercício anterior.\n",
        "- 2.2 Calcule os ccp_alphas. Como feito em aula, certifique-se de que todos os valores são positivos, e selecione apenas valores únicos.\n",
        "- 2.3 Considere que vamos fazer uma árvore para cada valor de ```ccp_alpha```. Para ter um pouco mais de velocidade, crie uma coleção de dados com os ```ccp_alphas```, considerando apenas 1 a cada 5 valores. Dica: utilize o slicing do tipo ```array[::5]``` para isto. Caso se sinta seguro, fique à vontade para utilizar mais valores de ```ccp_alpha```."
      ]
    },
    {
      "cell_type": "code",
      "source": [
        "# Carregar y_train.txt como uma Series\n",
        "y_train = pd.read_csv(\"y_train.txt\", header=None)[0]\n",
        "\n",
        "# Exibir as primeiras linhas para confirmar\n",
        "print(\"y_train:\\n\", y_train.head())\n",
        "\n",
        "print(\"Número de linhas em X_train_selected:\", X_train_selected.shape[0])\n",
        "print(\"Número de linhas em y_train:\", y_train.shape[0])"
      ],
      "metadata": {
        "colab": {
          "base_uri": "https://localhost:8080/"
        },
        "id": "nFJ8RqnAi9H0",
        "outputId": "05c2791a-038f-4c3a-ad8a-e7edd315354c"
      },
      "execution_count": 19,
      "outputs": [
        {
          "output_type": "stream",
          "name": "stdout",
          "text": [
            "y_train:\n",
            " 0    5\n",
            "1    5\n",
            "2    5\n",
            "3    5\n",
            "4    5\n",
            "Name: 0, dtype: int64\n",
            "Número de linhas em X_train_selected: 7352\n",
            "Número de linhas em y_train: 7352\n"
          ]
        }
      ]
    },
    {
      "cell_type": "code",
      "source": [
        "# Ajustando a árvore de decisão\n",
        "tree = DecisionTreeClassifier(min_samples_leaf=20, random_state=42)\n",
        "tree.fit(X_train_selected, y_train)\n",
        "\n",
        "# Verificando a profundidade da árvore e o número de folhas\n",
        "print(\"Profundidade da árvore:\", tree.get_depth())\n",
        "print(\"Número de folhas:\", tree.get_n_leaves())"
      ],
      "metadata": {
        "colab": {
          "base_uri": "https://localhost:8080/"
        },
        "id": "tntFr3YAiSNs",
        "outputId": "ac5c34cf-9bb2-4796-fcb8-ac83352df4b6"
      },
      "execution_count": 20,
      "outputs": [
        {
          "output_type": "stream",
          "name": "stdout",
          "text": [
            "Profundidade da árvore: 18\n",
            "Número de folhas: 279\n"
          ]
        }
      ]
    },
    {
      "cell_type": "code",
      "source": [
        "# Calculando os valores de ccp_alpha e impurezas correspondentes\n",
        "ccp_path = tree.cost_complexity_pruning_path(X_train_selected, y_train)\n",
        "ccp_alphas = ccp_path.ccp_alphas\n",
        "\n",
        "# Filtrando valores positivos e únicos\n",
        "ccp_alphas = np.unique(ccp_alphas[ccp_alphas > 0])\n",
        "print(\"Valores únicos de ccp_alpha (positivos):\", ccp_alphas)"
      ],
      "metadata": {
        "colab": {
          "base_uri": "https://localhost:8080/"
        },
        "id": "fQy6S-RbiR-z",
        "outputId": "4421d671-500b-4222-825e-d87a7752db77"
      },
      "execution_count": 21,
      "outputs": [
        {
          "output_type": "stream",
          "name": "stdout",
          "text": [
            "Valores únicos de ccp_alpha (positivos): [6.96674540e-06 1.12766571e-05 2.02554065e-05 2.72034820e-05\n",
            " 2.84988860e-05 4.63397246e-05 5.35004552e-05 5.84401136e-05\n",
            " 6.17808017e-05 6.59866112e-05 6.73768888e-05 7.02851049e-05\n",
            " 7.74168145e-05 7.99585551e-05 8.01474017e-05 8.28222484e-05\n",
            " 8.29342439e-05 8.49667199e-05 9.21474511e-05 9.63598696e-05\n",
            " 1.02953015e-04 1.04280015e-04 1.05722623e-04 1.06211126e-04\n",
            " 1.10109332e-04 1.20580361e-04 1.24186720e-04 1.32053657e-04\n",
            " 1.35233977e-04 1.36017410e-04 1.41963138e-04 1.46351627e-04\n",
            " 1.47352194e-04 1.49492770e-04 1.50482754e-04 1.51968146e-04\n",
            " 1.55713461e-04 1.60511546e-04 1.60628990e-04 1.64239147e-04\n",
            " 1.67323005e-04 1.74342668e-04 1.74907961e-04 1.75578030e-04\n",
            " 1.78985873e-04 1.81439304e-04 1.85996704e-04 1.87333070e-04\n",
            " 1.89065980e-04 1.89796602e-04 1.96526409e-04 1.96759215e-04\n",
            " 2.01481091e-04 2.01919050e-04 2.02866775e-04 2.03119333e-04\n",
            " 2.03378413e-04 2.03817707e-04 2.04208078e-04 2.05459167e-04\n",
            " 2.05888258e-04 2.06087949e-04 2.07617553e-04 2.08114530e-04\n",
            " 2.10826986e-04 2.11960464e-04 2.17477798e-04 2.19602457e-04\n",
            " 2.21008545e-04 2.24338271e-04 2.26826797e-04 2.27594109e-04\n",
            " 2.29384346e-04 2.33602195e-04 2.34736716e-04 2.39444770e-04\n",
            " 2.43328983e-04 2.43708910e-04 2.44518655e-04 2.46942952e-04\n",
            " 2.47932477e-04 2.50650879e-04 2.51257967e-04 2.52203777e-04\n",
            " 2.52748189e-04 2.52885177e-04 2.57941062e-04 2.61784705e-04\n",
            " 2.62058933e-04 2.62429695e-04 2.62495937e-04 2.67630447e-04\n",
            " 2.70488693e-04 2.71875694e-04 2.72574572e-04 2.73408734e-04\n",
            " 2.73576183e-04 2.76564755e-04 2.76980908e-04 2.77215101e-04\n",
            " 2.83037295e-04 2.83764836e-04 2.84437305e-04 2.84698778e-04\n",
            " 2.85662581e-04 2.87980319e-04 2.92548071e-04 2.93437830e-04\n",
            " 2.99870018e-04 3.05722978e-04 3.13171720e-04 3.13526581e-04\n",
            " 3.16535755e-04 3.23054912e-04 3.24609474e-04 3.26787621e-04\n",
            " 3.29146879e-04 3.35062301e-04 3.40670334e-04 3.43367509e-04\n",
            " 3.51668945e-04 3.58694742e-04 3.62713094e-04 3.63436756e-04\n",
            " 3.63559867e-04 3.73564446e-04 3.75461184e-04 3.84334188e-04\n",
            " 3.94496592e-04 3.96370888e-04 3.99220300e-04 4.19227120e-04\n",
            " 4.19434725e-04 4.22445607e-04 4.25042852e-04 4.29862753e-04\n",
            " 4.30962038e-04 4.31629717e-04 4.38983948e-04 4.49467013e-04\n",
            " 4.51528412e-04 4.52056267e-04 4.52181271e-04 4.53267630e-04\n",
            " 4.59401439e-04 4.63079099e-04 4.64533254e-04 4.71890578e-04\n",
            " 4.74616278e-04 4.83849967e-04 4.87208882e-04 4.90222192e-04\n",
            " 4.98107386e-04 5.03828243e-04 5.11220249e-04 5.11794978e-04\n",
            " 5.13442162e-04 5.15301819e-04 5.16617738e-04 5.25236832e-04\n",
            " 5.25732429e-04 5.44069641e-04 5.46401368e-04 5.49656698e-04\n",
            " 5.51314848e-04 5.56286552e-04 5.63595985e-04 5.77273672e-04\n",
            " 5.83273167e-04 6.15435247e-04 6.37883381e-04 6.67392093e-04\n",
            " 6.81399662e-04 6.94156453e-04 6.98447125e-04 7.02050790e-04\n",
            " 7.03929876e-04 7.25806649e-04 7.27899232e-04 7.30780896e-04\n",
            " 7.53735819e-04 7.59430540e-04 7.59492405e-04 8.02355289e-04\n",
            " 8.36454145e-04 8.64950391e-04 8.87310157e-04 8.87734607e-04\n",
            " 9.01936414e-04 9.07569250e-04 9.29376560e-04 9.92557878e-04\n",
            " 1.01036452e-03 1.01795253e-03 1.01949772e-03 1.13240843e-03\n",
            " 1.18956333e-03 1.19153017e-03 1.19164459e-03 1.19311982e-03\n",
            " 1.24197638e-03 1.33031000e-03 1.38150203e-03 1.38381321e-03\n",
            " 1.60586535e-03 1.65230695e-03 1.72863348e-03 1.76394830e-03\n",
            " 1.76436660e-03 1.90309251e-03 2.18765587e-03 2.27161828e-03\n",
            " 2.40709456e-03 2.51099397e-03 2.55472274e-03 2.66788979e-03\n",
            " 2.72689334e-03 2.87647177e-03 2.88225209e-03 2.90352390e-03\n",
            " 3.13001880e-03 3.20821779e-03 3.25102285e-03 4.06191087e-03\n",
            " 4.40039449e-03 4.73006126e-03 5.21789940e-03 5.64842251e-03\n",
            " 6.24547901e-03 7.39929073e-03 1.05395082e-02 3.45953769e-02]\n"
          ]
        }
      ]
    },
    {
      "cell_type": "code",
      "execution_count": 22,
      "metadata": {
        "colab": {
          "base_uri": "https://localhost:8080/"
        },
        "id": "SSvOpD8y63Lw",
        "outputId": "31999fc5-9b4f-42c8-cee8-26acda302676"
      },
      "outputs": [
        {
          "output_type": "stream",
          "name": "stdout",
          "text": [
            "ccp_alphas reduzidos (1 a cada 5): [6.96674540e-06 4.63397246e-05 6.73768888e-05 8.28222484e-05\n",
            " 1.02953015e-04 1.20580361e-04 1.41963138e-04 1.51968146e-04\n",
            " 1.67323005e-04 1.81439304e-04 1.96526409e-04 2.03119333e-04\n",
            " 2.05888258e-04 2.11960464e-04 2.26826797e-04 2.39444770e-04\n",
            " 2.47932477e-04 2.52885177e-04 2.62495937e-04 2.73408734e-04\n",
            " 2.83037295e-04 2.87980319e-04 3.13171720e-04 3.26787621e-04\n",
            " 3.51668945e-04 3.73564446e-04 3.99220300e-04 4.29862753e-04\n",
            " 4.51528412e-04 4.63079099e-04 4.87208882e-04 5.11794978e-04\n",
            " 5.25732429e-04 5.56286552e-04 6.37883381e-04 7.02050790e-04\n",
            " 7.53735819e-04 8.64950391e-04 9.29376560e-04 1.13240843e-03\n",
            " 1.24197638e-03 1.65230695e-03 2.18765587e-03 2.66788979e-03\n",
            " 3.13001880e-03 4.73006126e-03 1.05395082e-02]\n"
          ]
        }
      ],
      "source": [
        "# Selecionando 1 a cada 5 valores de ccp_alpha\n",
        "ccp_alphas_reduced = ccp_alphas[::5]\n",
        "print(\"ccp_alphas reduzidos (1 a cada 5):\", ccp_alphas_reduced)"
      ]
    },
    {
      "cell_type": "markdown",
      "metadata": {
        "id": "uNYY4Tj_63Lx"
      },
      "source": [
        "### 3. Desempenho da árvore por ccp_alpha\n",
        "\n",
        "- 3.1: Rode uma árvore para cada ```ccp_alpha```, salvando cada árvore em uma lista\n",
        "- 3.2: Calcule a acurácia de cada árvore na base de treinamento e de teste\n",
        "- 3.3: Monte um gráfico da acurácia em função do ```ccp_alpha``` na base de validação e na base de teste\n",
        "- 3.4: Selecione a melhor árvore como sendo aquela que possui melhor acurácia na base de teste\n",
        "- 3.5: Qual a melhor acurácia que se pode obter com estas três variáveis?\n",
        "\n",
        "**Dica:** utilize a estrutura do notebook apresentado em aula.  \n",
        "**Dica 2:** meça o tempo com a função mágica ```%%time``` na primeira linha da célula.  \n",
        "**Sugestão:** caso fique confortável com o tempo de execução, faça a busca pelo melhor ```ccp_alpha``` com mais iterações.  \n",
        "**Sugestão 2:** caso fique confortável com o tempo de execução, tente inserir uma ou mais variáveis adicionais e veja se consegue aumentar a acurácia."
      ]
    },
    {
      "cell_type": "code",
      "execution_count": 24,
      "metadata": {
        "colab": {
          "base_uri": "https://localhost:8080/"
        },
        "id": "StmF6hO-63Lx",
        "outputId": "d402ea3d-e5bf-4518-c9bd-91e12696b45e"
      },
      "outputs": [
        {
          "output_type": "stream",
          "name": "stdout",
          "text": [
            "47 árvores foram treinadas com diferentes valores de ccp_alpha.\n",
            "CPU times: user 1.85 s, sys: 0 ns, total: 1.85 s\n",
            "Wall time: 1.86 s\n"
          ]
        }
      ],
      "source": [
        "# Usando %%time para medir o tempo de execução\n",
        "%%time\n",
        "\n",
        "# Lista para armazenar as árvores treinadas\n",
        "trees = []\n",
        "\n",
        "# Rodando uma árvore para cada valor de ccp_alpha\n",
        "for ccp_alpha in ccp_alphas_reduced:\n",
        "    tree = DecisionTreeClassifier(min_samples_leaf=20, ccp_alpha=ccp_alpha, random_state=42)\n",
        "    tree.fit(X_train_selected, y_train)\n",
        "    trees.append(tree)\n",
        "\n",
        "print(f\"{len(trees)} árvores foram treinadas com diferentes valores de ccp_alpha.\")"
      ]
    },
    {
      "cell_type": "code",
      "source": [
        "# Carregando y_test.txt como uma Series\n",
        "y_test = pd.read_csv(\"y_test.txt\", header=None)[0]\n",
        "\n",
        "# Exibindo as primeiras linhas para confirmar\n",
        "print(\"y_test:\\n\", y_test.head())"
      ],
      "metadata": {
        "colab": {
          "base_uri": "https://localhost:8080/"
        },
        "id": "VUdT_Vv2zNeq",
        "outputId": "815bd78d-a281-4196-ffbf-e1104fa591fb"
      },
      "execution_count": 27,
      "outputs": [
        {
          "output_type": "stream",
          "name": "stdout",
          "text": [
            "y_test:\n",
            " 0    5\n",
            "1    5\n",
            "2    5\n",
            "3    5\n",
            "4    5\n",
            "Name: 0, dtype: int64\n"
          ]
        }
      ]
    },
    {
      "cell_type": "code",
      "source": [
        "# Listas para armazenar as acurácias\n",
        "train_accuracies = []\n",
        "test_accuracies = []\n",
        "\n",
        "# Calculando a acurácia para cada árvore\n",
        "for tree in trees:\n",
        "    # Acurácia na base de treinamento\n",
        "    train_accuracy = accuracy_score(y_train, tree.predict(X_train_selected))\n",
        "    train_accuracies.append(train_accuracy)\n",
        "\n",
        "    # Acurácia na base de teste\n",
        "    test_accuracy = accuracy_score(y_test, tree.predict(X_test_selected))\n",
        "    test_accuracies.append(test_accuracy)\n",
        "\n",
        "# Exibindo as acurácias\n",
        "print(\"Acurácias de treinamento:\", train_accuracies)\n",
        "print(\"Acurácias de teste:\", test_accuracies)"
      ],
      "metadata": {
        "colab": {
          "base_uri": "https://localhost:8080/"
        },
        "id": "1OQ13lQUpf77",
        "outputId": "0c6e534d-febb-456c-c143-250b231bc1cc"
      },
      "execution_count": 28,
      "outputs": [
        {
          "output_type": "stream",
          "name": "stdout",
          "text": [
            "Acurácias de treinamento: [0.5640642002176278, 0.5640642002176278, 0.5640642002176278, 0.5640642002176278, 0.5636561479869423, 0.5631120783460283, 0.5627040261153428, 0.5622959738846572, 0.5614798694232862, 0.5607997823721437, 0.5597116430903155, 0.5588955386289445, 0.558215451577802, 0.5567192600652884, 0.5556311207834603, 0.5529107725788901, 0.5529107725788901, 0.5526387377584331, 0.5508705114254625, 0.5501904243743199, 0.5499183895538629, 0.5473340587595212, 0.5459738846572362, 0.54379760609358, 0.5412132752992383, 0.5391730141458106, 0.5360446137105549, 0.5281556039173014, 0.5236670293797606, 0.5229869423286181, 0.5171381936887922, 0.5133297062023939, 0.5118335146898803, 0.5085690968443961, 0.5068008705114254, 0.5023122959738846, 0.4968715995647443, 0.4929270946681175, 0.49020674646354734, 0.4835418933623504, 0.47470076169749725, 0.46517954298150166, 0.44912948857453755, 0.4400163220892274, 0.43321545157780195, 0.39921109902067464, 0.3023667029379761]\n",
            "Acurácias de teste: [0.43942992874109266, 0.43942992874109266, 0.43942992874109266, 0.43942992874109266, 0.44010858500169664, 0.43909060061079064, 0.43909060061079064, 0.44248388191381066, 0.44214455378350864, 0.44214455378350864, 0.4448591788259247, 0.4458771632168307, 0.44757380386834067, 0.4448591788259247, 0.4458771632168307, 0.44859178825924667, 0.44859178825924667, 0.44859178825924667, 0.4472344757380387, 0.44451985069562266, 0.44451985069562266, 0.44214455378350864, 0.44316253817441464, 0.44418052256532065, 0.44451985069562266, 0.4458771632168307, 0.4438411944350187, 0.44214455378350864, 0.4407872412623006, 0.4407872412623006, 0.43841194435018666, 0.4377332880895826, 0.4407872412623006, 0.44010858500169664, 0.4418052256532066, 0.43942992874109266, 0.43942992874109266, 0.44146589752290466, 0.43807261621988464, 0.4346793349168646, 0.4200882253138785, 0.41330166270783847, 0.39531727180183235, 0.3949779436715304, 0.3949779436715304, 0.3783508652867323, 0.2999660671869698]\n"
          ]
        }
      ]
    },
    {
      "cell_type": "code",
      "source": [
        "# Plotando as acurácias\n",
        "plt.figure(figsize=(10, 6))\n",
        "plt.plot(ccp_alphas_reduced, train_accuracies, label=\"Acurácia Treinamento\", marker='o')\n",
        "plt.plot(ccp_alphas_reduced, test_accuracies, label=\"Acurácia Teste\", marker='o')\n",
        "plt.xlabel(\"ccp_alpha\")\n",
        "plt.ylabel(\"Acurácia\")\n",
        "plt.title(\"Acurácia em função de ccp_alpha\")\n",
        "plt.legend()\n",
        "plt.grid(True)\n",
        "plt.show()"
      ],
      "metadata": {
        "colab": {
          "base_uri": "https://localhost:8080/",
          "height": 565
        },
        "id": "_ISUgDBGpfp0",
        "outputId": "786f6b19-ec00-4088-96d0-43e3658e436c"
      },
      "execution_count": 30,
      "outputs": [
        {
          "output_type": "display_data",
          "data": {
            "text/plain": [
              "<Figure size 1000x600 with 1 Axes>"
            ],
            "image/png": "[encoded data removed]"
          },
          "metadata": {}
        }
      ]
    },
    {
      "cell_type": "code",
      "source": [
        "# Encontrando o índice do melhor valor de ccp_alpha baseado na acurácia de teste\n",
        "best_index = np.argmax(test_accuracies)\n",
        "best_tree = trees[best_index]\n",
        "best_ccp_alpha = ccp_alphas_reduced[best_index]\n",
        "\n",
        "print(\"Melhor valor de ccp_alpha:\", best_ccp_alpha)\n",
        "print(\"Acurácia na base de teste para a melhor árvore:\", test_accuracies[best_index])"
      ],
      "metadata": {
        "colab": {
          "base_uri": "https://localhost:8080/"
        },
        "id": "mX99JCippfcN",
        "outputId": "eec359de-07a2-4278-8f63-8d15ba848fbe"
      },
      "execution_count": 31,
      "outputs": [
        {
          "output_type": "stream",
          "name": "stdout",
          "text": [
            "Melhor valor de ccp_alpha: 0.00023944476959803082\n",
            "Acurácia na base de teste para a melhor árvore: 0.44859178825924667\n"
          ]
        }
      ]
    },
    {
      "cell_type": "code",
      "source": [
        "# Melhor acurácia que se pode obter\n",
        "best_test_accuracy = max(test_accuracies)\n",
        "print(\"Melhor acurácia na base de teste:\", best_test_accuracy)"
      ],
      "metadata": {
        "colab": {
          "base_uri": "https://localhost:8080/"
        },
        "id": "2ZNw51h9pfO5",
        "outputId": "f62175ea-f6d6-4018-e016-0c54d125f0ac"
      },
      "execution_count": 32,
      "outputs": [
        {
          "output_type": "stream",
          "name": "stdout",
          "text": [
            "Melhor acurácia na base de teste: 0.44859178825924667\n"
          ]
        }
      ]
    }
  ],
  "metadata": {
    "kernelspec": {
      "display_name": "Python 3",
      "language": "python",
      "name": "python3"
    },
    "language_info": {
      "codemirror_mode": {
        "name": "ipython",
        "version": 3
      },
      "file_extension": ".py",
      "mimetype": "text/x-python",
      "name": "python",
      "nbconvert_exporter": "python",
      "pygments_lexer": "ipython3",
      "version": "3.8.5"
    },
    "colab": {
      "provenance": []
    }
  },
  "nbformat": 4,
  "nbformat_minor": 0
}